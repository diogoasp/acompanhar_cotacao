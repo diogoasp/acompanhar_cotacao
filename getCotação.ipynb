{
 "cells": [
  {
   "cell_type": "code",
   "execution_count": 28,
   "metadata": {},
   "outputs": [],
   "source": [
    "import requests\n",
    "from bs4 import BeautifulSoup\n",
    "from datetime import datetime\n",
    "\n",
    "current_dateTime = datetime.now()\n",
    "acao = \"minerva-beef3\"\n",
    "html = requests.get(\"https://www.infomoney.com.br/cotacoes/b3/acao/{}/historico/\".format(acao)).content\n",
    "soup = BeautifulSoup(html, 'html.parser')\n",
    "\n",
    "valor = soup.find(\"div\", class_=\"value\").text.split('\\n')[1]\n",
    "\n",
    "f = open('currency_time','a+')\n",
    "f.write(\"{};{};{}\\n\".format(current_dateTime, valor, acao))\n",
    "f.close()"
   ]
  }
 ],
 "metadata": {
  "kernelspec": {
   "display_name": "base",
   "language": "python",
   "name": "python3"
  },
  "language_info": {
   "codemirror_mode": {
    "name": "ipython",
    "version": 3
   },
   "file_extension": ".py",
   "mimetype": "text/x-python",
   "name": "python",
   "nbconvert_exporter": "python",
   "pygments_lexer": "ipython3",
   "version": "3.9.13"
  },
  "orig_nbformat": 4
 },
 "nbformat": 4,
 "nbformat_minor": 2
}
